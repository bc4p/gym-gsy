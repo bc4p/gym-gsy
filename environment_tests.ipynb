{
 "cells": [
  {
   "cell_type": "code",
   "execution_count": 1,
   "metadata": {},
   "outputs": [
    {
     "name": "stdout",
     "output_type": "stream",
     "text": [
      "hello\n",
      "/mnt/c/Users/Pietro/Documents/work/b4p_project/gsy-e/src/gsy_e/setup/api_setup\n",
      "CPython\n"
     ]
    }
   ],
   "source": [
    "from environment import GsyEnv\n",
    "import click\n",
    "\n",
    "\n",
    "ASSETS = ['PV 5 (10kW)', 'Load 5 L9']"
   ]
  },
  {
   "cell_type": "code",
   "execution_count": 2,
   "metadata": {},
   "outputs": [],
   "source": [
    "env = GsyEnv()"
   ]
  },
  {
   "cell_type": "code",
   "execution_count": 4,
   "metadata": {},
   "outputs": [
    {
     "name": "stdout",
     "output_type": "stream",
     "text": [
      "loading setup module api_setup.default_community_BC\n",
      "{'current_tick': 0, 'area_stats': {'rate_stats_market': {}, 'exported_energy': {}, 'imported_energy': {}}}\n",
      "read csv in /mnt/c/Users/Pietro/Documents/work/b4p_project/gsy-e/src/gsy_e/setup/api_setup/resources/Berlin_pv.csv\n",
      "read csv in /mnt/c/Users/Pietro/Documents/work/b4p_project/gsy-e/src/gsy_e/setup/api_setup/resources/CHR15 Multigenerational Home working couple, 2 children, 2 seniors HH1.csv\n"
     ]
    },
    {
     "name": "stderr",
     "output_type": "stream",
     "text": [
      "WARNING:gsy_e.gsy_e_core.simulation:Slot 1 of 96 - (1.0 %) 0.00 second elapsed, ETA: 0.10 second\n",
      "CRITICAL:gsy_e.gsy_e_core.simulation:Simulation paused. Press 'p' to resume or resume from API.\n"
     ]
    },
    {
     "name": "stdout",
     "output_type": "stream",
     "text": [
      "simulation: sim\n",
      "sim_id:  \n",
      "channgels:  {'/area-map/': <bound method RedisSimulationCommunication._calculate_area_map_callback of <gsy_e.gsy_e_core.redis_connections.simulation.RedisSimulationCommunication object at 0x7f07916306d0>>, '/stop': <bound method RedisSimulationCommunication._stop_callback of <gsy_e.gsy_e_core.redis_connections.simulation.RedisSimulationCommunication object at 0x7f07916306d0>>, '/pause': <bound method RedisSimulationCommunication._pause_callback of <gsy_e.gsy_e_core.redis_connections.simulation.RedisSimulationCommunication object at 0x7f07916306d0>>, '/resume': <bound method RedisSimulationCommunication._resume_callback of <gsy_e.gsy_e_core.redis_connections.simulation.RedisSimulationCommunication object at 0x7f07916306d0>>, '/live-event': <bound method RedisSimulationCommunication._live_event_callback of <gsy_e.gsy_e_core.redis_connections.simulation.RedisSimulationCommunication object at 0x7f07916306d0>>, '/bulk-live-event': <bound method RedisSimulationCommunication._bulk_live_event_callback of <gsy_e.gsy_e_core.redis_connections.simulation.RedisSimulationCommunication object at 0x7f07916306d0>>}\n",
      "subscribing to aggregator response and\n",
      "run thread\n",
      "done\n"
     ]
    }
   ],
   "source": [
    "info, obs = env.reset()"
   ]
  },
  {
   "cell_type": "code",
   "execution_count": 7,
   "metadata": {},
   "outputs": [
    {
     "name": "stderr",
     "output_type": "stream",
     "text": [
      "CRITICAL:gsy_e.gsy_e_core.simulation:Simulation resumed\n",
      "WARNING:gsy_e.gsy_e_core.simulation:Slot 2 of 96 - (2.1 %) 10 seconds elapsed, ETA: 7 minutes 59 seconds\n",
      "CRITICAL:gsy_e.gsy_e_core.simulation:Simulation paused. Press 'p' to resume or resume from API.\n"
     ]
    }
   ],
   "source": [
    "obs, reward, terminated, _, info = env.step()"
   ]
  },
  {
   "cell_type": "code",
   "execution_count": 13,
   "metadata": {},
   "outputs": [
    {
     "data": {
      "text/plain": [
       "{'84827198-db67-49c5-a86c-43af3d37c2b3': {'last_market_bill': {'accumulated_trades': {},\n",
       "   'external_trades': {}},\n",
       "  'last_market_stats': {'min_trade_rate': None,\n",
       "   'max_trade_rate': None,\n",
       "   'avg_trade_rate': None,\n",
       "   'median_trade_rate': None,\n",
       "   'total_traded_energy_kWh': None},\n",
       "  'last_market_fee': 4,\n",
       "  'current_market_fee': 4,\n",
       "  'area_name': 'Grid',\n",
       "  'children': {'fb24cc72-0cdb-43a8-9e5b-84466ce9fca3': {'last_market_bill': {'accumulated_trades': {},\n",
       "     'external_trades': {}},\n",
       "    'last_market_stats': {'min_trade_rate': None,\n",
       "     'max_trade_rate': None,\n",
       "     'avg_trade_rate': None,\n",
       "     'median_trade_rate': None,\n",
       "     'total_traded_energy_kWh': None},\n",
       "    'last_market_fee': 4,\n",
       "    'current_market_fee': 4,\n",
       "    'area_name': 'Community',\n",
       "    'children': {'b4249fe1-0bcd-458c-9207-ed87e4061bf7': {'last_market_bill': {'accumulated_trades': {},\n",
       "       'external_trades': {}},\n",
       "      'last_market_stats': {'min_trade_rate': None,\n",
       "       'max_trade_rate': None,\n",
       "       'avg_trade_rate': None,\n",
       "       'median_trade_rate': None,\n",
       "       'total_traded_energy_kWh': None},\n",
       "      'last_market_fee': 0.0,\n",
       "      'current_market_fee': None,\n",
       "      'area_name': 'Multigenerational house',\n",
       "      'children': {'84f8e453-cb84-4241-bbe9-f89918c2e313': {'asset_info': {'energy_requirement_kWh': 0.04753225,\n",
       "         'energy_active_in_bids': 0.04753225,\n",
       "         'energy_traded': 0,\n",
       "         'total_cost': 0},\n",
       "        'last_slot_asset_info': {'energy_traded': 0, 'total_cost': 0},\n",
       "        'asset_bill': {},\n",
       "        'area_name': 'Load 5 L9'},\n",
       "       '9d236ef9-2db4-4b60-ba24-0703e2c07f85': {'asset_info': {'available_energy_kWh': 0.0,\n",
       "         'energy_active_in_offers': 0,\n",
       "         'energy_traded': 0,\n",
       "         'total_cost': 0},\n",
       "        'last_slot_asset_info': {'energy_traded': 0, 'total_cost': 0},\n",
       "        'asset_bill': {},\n",
       "        'area_name': 'PV 5 (10kW)'}}}}}}}}"
      ]
     },
     "execution_count": 13,
     "metadata": {},
     "output_type": "execute_result"
    },
    {
     "name": "stderr",
     "output_type": "stream",
     "text": [
      "CRITICAL:gsy_e.gsy_e_core.simulation:Simulation resumed\n",
      "ERROR:gsy_e.gsy_e_core.simulation:Received stop command for configuration id  and job id None.\n"
     ]
    }
   ],
   "source": [
    "\n",
    "obs"
   ]
  },
  {
   "cell_type": "code",
   "execution_count": null,
   "metadata": {},
   "outputs": [],
   "source": []
  }
 ],
 "metadata": {
  "kernelspec": {
   "display_name": "pbrl",
   "language": "python",
   "name": "python3"
  },
  "language_info": {
   "codemirror_mode": {
    "name": "ipython",
    "version": 3
   },
   "file_extension": ".py",
   "mimetype": "text/x-python",
   "name": "python",
   "nbconvert_exporter": "python",
   "pygments_lexer": "ipython3",
   "version": "3.10.4"
  },
  "orig_nbformat": 4
 },
 "nbformat": 4,
 "nbformat_minor": 2
}
