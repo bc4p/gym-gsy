{
 "cells": [
  {
   "attachments": {},
   "cell_type": "markdown",
   "metadata": {},
   "source": [
    "## GSY-GYM Tutorial"
   ]
  },
  {
   "cell_type": "code",
   "execution_count": null,
   "metadata": {},
   "outputs": [],
   "source": [
    "from environment import GsyEnv, MarketAgent, AgentsCoordinator\n",
    "from simulationController import SimulationController\n",
    "import click\n"
   ]
  },
  {
   "attachments": {},
   "cell_type": "markdown",
   "metadata": {},
   "source": [
    "### simulation controller\n",
    "\n",
    "the simulation controller is a class used to connect with the gsy-e simulation.  \n",
    "\n",
    "the simulation controller can be initiated in the following way:"
   ]
  },
  {
   "cell_type": "code",
   "execution_count": null,
   "metadata": {},
   "outputs": [],
   "source": [
    "sim_controller = SimulationController()"
   ]
  },
  {
   "attachments": {},
   "cell_type": "markdown",
   "metadata": {},
   "source": [
    "start the simulation:"
   ]
  },
  {
   "cell_type": "code",
   "execution_count": null,
   "metadata": {},
   "outputs": [],
   "source": [
    "sim_controller.start()"
   ]
  },
  {
   "attachments": {},
   "cell_type": "markdown",
   "metadata": {},
   "source": [
    "right now the simulation is running in its own separate thread which is accessible from the sim_controller object.  \n",
    "To check the status the simulation you can do the following:"
   ]
  },
  {
   "cell_type": "code",
   "execution_count": null,
   "metadata": {},
   "outputs": [],
   "source": [
    "print(\"simulation started: \", sim_controller.has_started)\n",
    "print(\"is simulation paused: \",sim_controller.is_paused)\n",
    "print(\"is simulation finished: \",sim_controller.is_finished)"
   ]
  },
  {
   "cell_type": "markdown",
   "metadata": {},
   "source": [
    "the simulation object is the main interface with the simulation:"
   ]
  },
  {
   "cell_type": "code",
   "execution_count": null,
   "metadata": {},
   "outputs": [],
   "source": [
    "sim_controller.simulation"
   ]
  },
  {
   "attachments": {},
   "cell_type": "markdown",
   "metadata": {},
   "source": [
    "when the simulation starts, it automatically stops after the initialization of the simulation oject.   \n",
    "this can be checked by checking the current simulation slot number in the following way:"
   ]
  },
  {
   "cell_type": "code",
   "execution_count": null,
   "metadata": {},
   "outputs": [],
   "source": [
    "print(\"slot number: \",sim_controller.slot_number)"
   ]
  },
  {
   "cell_type": "markdown",
   "metadata": {},
   "source": [
    "to resume the simulation do use the following command:"
   ]
  },
  {
   "cell_type": "code",
   "execution_count": null,
   "metadata": {},
   "outputs": [],
   "source": [
    "sim_controller.resume()"
   ]
  },
  {
   "attachments": {},
   "cell_type": "markdown",
   "metadata": {},
   "source": [
    "pausing the simulation: "
   ]
  },
  {
   "cell_type": "code",
   "execution_count": null,
   "metadata": {},
   "outputs": [],
   "source": [
    "sim_controller.pause()\n",
    "print(\"slot number: \",sim_controller.slot_number)"
   ]
  },
  {
   "attachments": {},
   "cell_type": "markdown",
   "metadata": {},
   "source": [
    "some times it can be helpfl to run the simulation for 1 slot and then stop automatically  \n",
    "in such cases this command can be used"
   ]
  },
  {
   "cell_type": "code",
   "execution_count": null,
   "metadata": {},
   "outputs": [],
   "source": [
    "print(\"slot number before: \",sim_controller.slot_number)\n",
    "sim_controller.next_slot()\n",
    "print(\"slot number after: \",sim_controller.slot_number)"
   ]
  },
  {
   "cell_type": "markdown",
   "metadata": {},
   "source": [
    "reading the information from the simulatino is also imporant"
   ]
  },
  {
   "attachments": {},
   "cell_type": "markdown",
   "metadata": {},
   "source": [
    "get all areas in the simulation:"
   ]
  },
  {
   "cell_type": "code",
   "execution_count": null,
   "metadata": {},
   "outputs": [],
   "source": [
    "sim_controller.get_all_areas()"
   ]
  },
  {
   "cell_type": "markdown",
   "metadata": {},
   "source": [
    "some of these areas are assets and some are market nodes.  \n",
    "to get one or the other:"
   ]
  },
  {
   "cell_type": "code",
   "execution_count": null,
   "metadata": {},
   "outputs": [],
   "source": [
    "assets = sim_controller.get_assets()\n",
    "market_node_areas = sim_controller.get_no_asset_areas()\n",
    "print(assets)\n",
    "print(market_node_areas)"
   ]
  },
  {
   "attachments": {},
   "cell_type": "markdown",
   "metadata": {},
   "source": [
    "## Market Agent & Agent Coordinator\n",
    "\n",
    "the market agent is a class responsible for sending commands to the simulation and reading a market and assets status.  \n",
    "The Market agent is initialized with an asset area and a market node area representing the market. The asset is the bidder/offere the market node area is the destination for those commands.    \n",
    "\n",
    "The Agent Coordinator is a class used to read all of the market agents data and combine them\n",
    "\n",
    "important to note that in this case agent1 and angent2 are set with the same market node so the their bids and offers can acctually go to the same market and match\n",
    "\n",
    "to initialize Market agent:"
   ]
  },
  {
   "cell_type": "code",
   "execution_count": null,
   "metadata": {},
   "outputs": [],
   "source": [
    "agent1 = MarketAgent(assets[0], market_node_areas[0])\n",
    "agent2 = MarketAgent(assets[1], market_node_areas[0])"
   ]
  },
  {
   "attachments": {},
   "cell_type": "markdown",
   "metadata": {},
   "source": [
    "to initialize Agent Coordinator"
   ]
  },
  {
   "cell_type": "code",
   "execution_count": null,
   "metadata": {},
   "outputs": [],
   "source": [
    "ac = AgentsCoordinator([agent1, agent2], market_node_areas[0])"
   ]
  },
  {
   "cell_type": "markdown",
   "metadata": {},
   "source": [
    "sending bids and offers to the market now becomes easy with the Market Agents:"
   ]
  },
  {
   "cell_type": "code",
   "execution_count": null,
   "metadata": {},
   "outputs": [],
   "source": [
    "agent1.send_bid(15,10)\n",
    "agent2.send_offer(10,15)"
   ]
  },
  {
   "attachments": {},
   "cell_type": "markdown",
   "metadata": {},
   "source": [
    "those can be seen thanks to the agent coordinator:"
   ]
  },
  {
   "cell_type": "code",
   "execution_count": null,
   "metadata": {},
   "outputs": [],
   "source": [
    "print(\"bids:\\n\",ac.current_bids)\n",
    "print(\"\\noffers:\\n\",ac.current_offers)"
   ]
  },
  {
   "cell_type": "markdown",
   "metadata": {},
   "source": [
    "we can also check the trades that happened:"
   ]
  },
  {
   "cell_type": "code",
   "execution_count": null,
   "metadata": {},
   "outputs": [],
   "source": [
    "print(\"trades:\\n\",ac.current_trades)"
   ]
  },
  {
   "attachments": {},
   "cell_type": "markdown",
   "metadata": {},
   "source": [
    "if we run antother market slot:"
   ]
  },
  {
   "cell_type": "code",
   "execution_count": null,
   "metadata": {},
   "outputs": [],
   "source": [
    "sim_controller.next_slot()"
   ]
  },
  {
   "attachments": {},
   "cell_type": "markdown",
   "metadata": {},
   "source": [
    "the trades, offers and bids are going to disappear"
   ]
  },
  {
   "cell_type": "code",
   "execution_count": null,
   "metadata": {},
   "outputs": [],
   "source": [
    "print(\"bids:\\n\",ac.current_bids)\n",
    "print(\"offers:\\n\",ac.current_offers)\n",
    "print(\"trades:\\n\",ac.current_trades)"
   ]
  },
  {
   "attachments": {},
   "cell_type": "markdown",
   "metadata": {},
   "source": [
    "but the past trades are going to be available like so:"
   ]
  },
  {
   "cell_type": "code",
   "execution_count": null,
   "metadata": {},
   "outputs": [],
   "source": [
    "print(\"past trades:\\n\",ac.past_trades)"
   ]
  }
 ],
 "metadata": {
  "kernelspec": {
   "display_name": "pbrl",
   "language": "python",
   "name": "python3"
  },
  "language_info": {
   "codemirror_mode": {
    "name": "ipython",
    "version": 3
   },
   "file_extension": ".py",
   "mimetype": "text/x-python",
   "name": "python",
   "nbconvert_exporter": "python",
   "pygments_lexer": "ipython3",
   "version": "3.11.3"
  },
  "orig_nbformat": 4
 },
 "nbformat": 4,
 "nbformat_minor": 2
}
