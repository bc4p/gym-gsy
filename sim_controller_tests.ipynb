{
 "cells": [
  {
   "cell_type": "code",
   "execution_count": 1,
   "metadata": {},
   "outputs": [
    {
     "name": "stdout",
     "output_type": "stream",
     "text": [
      "hello\n",
      "c:\\users\\pietro\\documents\\work\\b4p_project\\gsy-e\\src\\gsy_e\\setup\\api_setup\n",
      "CPython\n"
     ]
    }
   ],
   "source": [
    "from environment import GsyEnv, MarketAgent\n",
    "import click\n",
    "\n",
    "\n",
    "\n",
    "ASSETS = ['PV 5 (10kW)', 'Load 5 L9']"
   ]
  },
  {
   "cell_type": "code",
   "execution_count": 2,
   "metadata": {},
   "outputs": [],
   "source": [
    "from simulationController import SimulationController"
   ]
  },
  {
   "cell_type": "code",
   "execution_count": 3,
   "metadata": {},
   "outputs": [],
   "source": [
    "sim_controller = SimulationController()"
   ]
  },
  {
   "cell_type": "code",
   "execution_count": 4,
   "metadata": {},
   "outputs": [
    {
     "name": "stderr",
     "output_type": "stream",
     "text": [
      "WARNING:gsy_e.gsy_e_core.simulation:Slot 1 of 96 - (1.0 %) 0.00 second elapsed, ETA: 0.10 second\n",
      "CRITICAL:gsy_e.gsy_e_core.simulation:Simulation paused. Press 'p' to resume or resume from API.\n"
     ]
    },
    {
     "name": "stdout",
     "output_type": "stream",
     "text": [
      "loading setup module api_setup.default_community_BC\n",
      "{'current_tick': 0, 'area_stats': {'rate_stats_market': {}, 'exported_energy': {}, 'imported_energy': {}}}\n",
      "simulation: sim\n",
      "sim_id:  \n",
      "channgels:  {'/area-map/': <bound method RedisSimulationCommunication._calculate_area_map_callback of <gsy_e.gsy_e_core.redis_connections.simulation.RedisSimulationCommunication object at 0x000001CEE3E94390>>, '/stop': <bound method RedisSimulationCommunication._stop_callback of <gsy_e.gsy_e_core.redis_connections.simulation.RedisSimulationCommunication object at 0x000001CEE3E94390>>, '/pause': <bound method RedisSimulationCommunication._pause_callback of <gsy_e.gsy_e_core.redis_connections.simulation.RedisSimulationCommunication object at 0x000001CEE3E94390>>, '/resume': <bound method RedisSimulationCommunication._resume_callback of <gsy_e.gsy_e_core.redis_connections.simulation.RedisSimulationCommunication object at 0x000001CEE3E94390>>, '/live-event': <bound method RedisSimulationCommunication._live_event_callback of <gsy_e.gsy_e_core.redis_connections.simulation.RedisSimulationCommunication object at 0x000001CEE3E94390>>, '/bulk-live-event': <bound method RedisSimulationCommunication._bulk_live_event_callback of <gsy_e.gsy_e_core.redis_connections.simulation.RedisSimulationCommunication object at 0x000001CEE3E94390>>}\n",
      "subscribing to aggregator response and\n",
      "run thread\n",
      "done\n"
     ]
    }
   ],
   "source": [
    "sim_controller.start()"
   ]
  },
  {
   "cell_type": "code",
   "execution_count": 5,
   "metadata": {},
   "outputs": [],
   "source": [
    "assets = sim_controller.get_assets()\n",
    "market_nodes = sim_controller.get_no_asset_areas()\n",
    "market = list(market_nodes[1]._markets.markets.values())[0]\n",
    "agent = MarketAgent(assets[0], market_nodes[0])\n",
    "agent2 = MarketAgent(assets[1], market_nodes[0])"
   ]
  },
  {
   "cell_type": "code",
   "execution_count": 10,
   "metadata": {},
   "outputs": [
    {
     "data": {
      "text/plain": [
       "{'2023-05-22T00:15': {'bids': [], 'offers': []}}"
      ]
     },
     "execution_count": 10,
     "metadata": {},
     "output_type": "execute_result"
    }
   ],
   "source": [
    "list(agent.marketNode._markets.markets.values())[0]"
   ]
  },
  {
   "cell_type": "code",
   "execution_count": 14,
   "metadata": {},
   "outputs": [],
   "source": [
    "agent.send_bid(10,10)\n",
    "agent2.send_offer(20,5)"
   ]
  },
  {
   "cell_type": "code",
   "execution_count": 15,
   "metadata": {},
   "outputs": [
    {
     "name": "stderr",
     "output_type": "stream",
     "text": [
      "CRITICAL:gsy_e.gsy_e_core.simulation:Simulation resumed\n",
      "WARNING:gsy_e.gsy_e_core.simulation:Slot 5 of 96 - (5.2 %) 9 minutes 21 seconds elapsed, ETA: 2 hours 50 minutes 25 seconds\n"
     ]
    }
   ],
   "source": [
    "sim_controller.next_slot()"
   ]
  },
  {
   "cell_type": "code",
   "execution_count": 8,
   "metadata": {},
   "outputs": [],
   "source": [
    "area = sim_controller.simulation.area\n",
    "assets = sim_controller.get_assets()\n",
    "asset = assets[1]\n",
    "strategy = asset.strategy\n"
   ]
  },
  {
   "cell_type": "code",
   "execution_count": 11,
   "metadata": {},
   "outputs": [
    {
     "data": {
      "text/plain": [
       "<Bid {71e3b9} [PV 5 (10kW)] 100 kWh @ 10.0 0.1>"
      ]
     },
     "execution_count": 11,
     "metadata": {},
     "output_type": "execute_result"
    }
   ],
   "source": [
    "strategy.post_bid(strategy.spot_market, price=10, energy=100)"
   ]
  },
  {
   "cell_type": "code",
   "execution_count": 10,
   "metadata": {},
   "outputs": [
    {
     "data": {
      "text/plain": [
       "<TwoSidedMarket 2023-05-22T00:15 bids: 2 (E: 0.0075 kWh V:0.0) offers: 1 (E: 100 kWh V: 10.0) trades: 0 (E: 0 kWh, V: 0)>"
      ]
     },
     "execution_count": 10,
     "metadata": {},
     "output_type": "execute_result"
    }
   ],
   "source": [
    "strategy.spot_market"
   ]
  },
  {
   "cell_type": "code",
   "execution_count": 46,
   "metadata": {},
   "outputs": [
    {
     "data": {
      "text/plain": [
       "<Area 'Community' markets: ['00:30']>"
      ]
     },
     "execution_count": 46,
     "metadata": {},
     "output_type": "execute_result"
    }
   ],
   "source": [
    "area = sim_controller.get_no_asset_areas()[1]\n",
    "area2 = sim_controller.get_no_asset_areas()[0]\n",
    "\n",
    "area"
   ]
  },
  {
   "cell_type": "code",
   "execution_count": 11,
   "metadata": {},
   "outputs": [],
   "source": [
    "asset = sim_controller.get_assets()[0]"
   ]
  },
  {
   "cell_type": "code",
   "execution_count": 47,
   "metadata": {},
   "outputs": [],
   "source": [
    "market = area.current_market"
   ]
  },
  {
   "cell_type": "code",
   "execution_count": 24,
   "metadata": {},
   "outputs": [
    {
     "data": {
      "text/plain": [
       "<TwoSidedMarket 2023-05-02T00:00 bids: 1 (E: 0.05631775 kWh V:2.1400745) offers: 0 (E: 0 kWh V: 0) trades: 0 (E: 0 kWh, V: 0)>"
      ]
     },
     "execution_count": 24,
     "metadata": {},
     "output_type": "execute_result"
    }
   ],
   "source": [
    "market"
   ]
  },
  {
   "cell_type": "code",
   "execution_count": 48,
   "metadata": {},
   "outputs": [],
   "source": [
    "agent = TwoSidedAgent(owner = asset, lower_market=area.current_market, higher_market=area2.current_market)"
   ]
  },
  {
   "cell_type": "code",
   "execution_count": null,
   "metadata": {},
   "outputs": [],
   "source": []
  },
  {
   "cell_type": "code",
   "execution_count": null,
   "metadata": {},
   "outputs": [],
   "source": []
  },
  {
   "cell_type": "code",
   "execution_count": 92,
   "metadata": {},
   "outputs": [
    {
     "ename": "AttributeError",
     "evalue": "'TwoSidedAgent' object has no attribute 'accept_bid'",
     "output_type": "error",
     "traceback": [
      "\u001b[0;31m---------------------------------------------------------------------------\u001b[0m",
      "\u001b[0;31mAttributeError\u001b[0m                            Traceback (most recent call last)",
      "Cell \u001b[0;32mIn[92], line 1\u001b[0m\n\u001b[0;32m----> 1\u001b[0m agent\u001b[39m.\u001b[39;49maccept_bid(market,\u001b[39m'\u001b[39m\u001b[39m6d7b0aef-fa1e-4bec-b142-3c5c022c0634\u001b[39m\u001b[39m'\u001b[39m)\n",
      "\u001b[0;31mAttributeError\u001b[0m: 'TwoSidedAgent' object has no attribute 'accept_bid'"
     ]
    },
    {
     "name": "stderr",
     "output_type": "stream",
     "text": [
      "CRITICAL:gsy_e.gsy_e_core.simulation:Simulation resumed\n",
      "ERROR:gsy_e.gsy_e_core.simulation:Received stop command for configuration id  and job id None.\n"
     ]
    }
   ],
   "source": [
    "agent.accept_bid(market,'6d7b0aef-fa1e-4bec-b142-3c5c022c0634')"
   ]
  },
  {
   "cell_type": "code",
   "execution_count": 91,
   "metadata": {},
   "outputs": [
    {
     "data": {
      "text/plain": [
       "{'6d7b0aef-fa1e-4bec-b142-3c5c022c0634': <Bid {6d7b0a} [Multigenerational house] 0.04753225 kWh @ 1.8062255 38.0>}"
      ]
     },
     "execution_count": 91,
     "metadata": {},
     "output_type": "execute_result"
    }
   ],
   "source": [
    "\n",
    "o  = market.bids\n",
    "\n",
    "o"
   ]
  },
  {
   "cell_type": "code",
   "execution_count": 64,
   "metadata": {},
   "outputs": [
    {
     "ename": "NameError",
     "evalue": "name 'ASSETS' is not defined",
     "output_type": "error",
     "traceback": [
      "\u001b[0;31m---------------------------------------------------------------------------\u001b[0m",
      "\u001b[0;31mNameError\u001b[0m                                 Traceback (most recent call last)",
      "Cell \u001b[0;32mIn[64], line 1\u001b[0m\n\u001b[0;32m----> 1\u001b[0m \u001b[39mfor\u001b[39;00m asset_name \u001b[39min\u001b[39;00m ASSETS:\n\u001b[1;32m      2\u001b[0m     sim_controller\u001b[39m.\u001b[39mregister_asset(asset_name)\n",
      "\u001b[0;31mNameError\u001b[0m: name 'ASSETS' is not defined"
     ]
    }
   ],
   "source": [
    "for asset_name in ASSETS:\n",
    "    sim_controller.register_asset(asset_name)    "
   ]
  },
  {
   "cell_type": "code",
   "execution_count": 18,
   "metadata": {},
   "outputs": [
    {
     "name": "stderr",
     "output_type": "stream",
     "text": [
      "CRITICAL:gsy_e.gsy_e_core.simulation:Simulation resumed\n",
      "ERROR:root:on_market_slot raised exception: Could not find Market Maker in tree.\n",
      "Traceback (most recent call last):\n",
      "  File \"/mnt/c/Users/Pietro/Documents/work/b4p_project/gsy-e-sdk/gsy-framework/gsy_framework/utils.py\", line 48, in execute_function_util\n",
      "    function()\n",
      "  File \"/mnt/c/Users/Pietro/Documents/work/b4p_project/gsy-e-sdk/gsy_e_sdk/redis_aggregator.py\", line 266, in <lambda>\n",
      "    function=lambda: self.on_market_slot(message),\n",
      "  File \"/mnt/c/Users/Pietro/Documents/work/b4p_project/gym-gsy/redis_basic_strategies_BC.py\", line 33, in on_market_slot\n",
      "    self.build_strategies(market_info)\n",
      "  File \"/mnt/c/Users/Pietro/Documents/work/b4p_project/gym-gsy/redis_basic_strategies_BC.py\", line 63, in build_strategies\n",
      "    self.get_uuid_from_area_name(\"Market Maker\"),\n",
      "  File \"/mnt/c/Users/Pietro/Documents/work/b4p_project/gsy-e-sdk/gsy_e_sdk/redis_aggregator.py\", line 257, in get_uuid_from_area_name\n",
      "    return get_uuid_from_area_name_in_tree_dict(self.area_name_uuid_mapping, name)\n",
      "  File \"/mnt/c/Users/Pietro/Documents/work/b4p_project/gsy-e-sdk/gsy_e_sdk/utils.py\", line 279, in get_uuid_from_area_name_in_tree_dict\n",
      "    raise ValueError(f\"Could not find {name} in tree\")\n",
      "ValueError: Could not find Market Maker in tree\n",
      "ERROR:root:on_tick raised exception: 'buy_rates'.\n",
      "Traceback (most recent call last):\n",
      "  File \"/mnt/c/Users/Pietro/Documents/work/b4p_project/gsy-e-sdk/gsy-framework/gsy_framework/utils.py\", line 48, in execute_function_util\n",
      "    function()\n",
      "  File \"/mnt/c/Users/Pietro/Documents/work/b4p_project/gsy-e-sdk/gsy_e_sdk/redis_aggregator.py\", line 275, in <lambda>\n",
      "    self.executor.submit(execute_function_util, function=lambda: self.on_tick(message),\n",
      "  File \"/mnt/c/Users/Pietro/Documents/work/b4p_project/gym-gsy/redis_basic_strategies_BC.py\", line 40, in on_tick\n",
      "    self.post_bid_offer(rate_index)\n",
      "  File \"/mnt/c/Users/Pietro/Documents/work/b4p_project/gym-gsy/redis_basic_strategies_BC.py\", line 137, in post_bid_offer\n",
      "    rate = self.asset_strategy[area_uuid][\"buy_rates\"][rate_index]\n",
      "KeyError: 'buy_rates'\n",
      "ERROR:root:on_tick raised exception: 'buy_rates'.\n",
      "Traceback (most recent call last):\n",
      "  File \"/mnt/c/Users/Pietro/Documents/work/b4p_project/gsy-e-sdk/gsy-framework/gsy_framework/utils.py\", line 48, in execute_function_util\n",
      "    function()\n",
      "  File \"/mnt/c/Users/Pietro/Documents/work/b4p_project/gsy-e-sdk/gsy_e_sdk/redis_aggregator.py\", line 275, in <lambda>\n",
      "    self.executor.submit(execute_function_util, function=lambda: self.on_tick(message),\n",
      "  File \"/mnt/c/Users/Pietro/Documents/work/b4p_project/gym-gsy/redis_basic_strategies_BC.py\", line 40, in on_tick\n",
      "    self.post_bid_offer(rate_index)\n",
      "  File \"/mnt/c/Users/Pietro/Documents/work/b4p_project/gym-gsy/redis_basic_strategies_BC.py\", line 137, in post_bid_offer\n",
      "    rate = self.asset_strategy[area_uuid][\"buy_rates\"][rate_index]\n",
      "KeyError: 'buy_rates'\n",
      "ERROR:root:on_tick raised exception: 'buy_rates'.\n",
      "Traceback (most recent call last):\n",
      "  File \"/mnt/c/Users/Pietro/Documents/work/b4p_project/gsy-e-sdk/gsy-framework/gsy_framework/utils.py\", line 48, in execute_function_util\n",
      "    function()\n",
      "  File \"/mnt/c/Users/Pietro/Documents/work/b4p_project/gsy-e-sdk/gsy_e_sdk/redis_aggregator.py\", line 275, in <lambda>\n",
      "    self.executor.submit(execute_function_util, function=lambda: self.on_tick(message),\n",
      "  File \"/mnt/c/Users/Pietro/Documents/work/b4p_project/gym-gsy/redis_basic_strategies_BC.py\", line 40, in on_tick\n",
      "    self.post_bid_offer(rate_index)\n",
      "  File \"/mnt/c/Users/Pietro/Documents/work/b4p_project/gym-gsy/redis_basic_strategies_BC.py\", line 137, in post_bid_offer\n",
      "    rate = self.asset_strategy[area_uuid][\"buy_rates\"][rate_index]\n",
      "KeyError: 'buy_rates'\n",
      "ERROR:root:on_tick raised exception: 'buy_rates'.\n",
      "Traceback (most recent call last):\n",
      "  File \"/mnt/c/Users/Pietro/Documents/work/b4p_project/gsy-e-sdk/gsy-framework/gsy_framework/utils.py\", line 48, in execute_function_util\n",
      "    function()\n",
      "  File \"/mnt/c/Users/Pietro/Documents/work/b4p_project/gsy-e-sdk/gsy_e_sdk/redis_aggregator.py\", line 275, in <lambda>\n",
      "    self.executor.submit(execute_function_util, function=lambda: self.on_tick(message),\n",
      "  File \"/mnt/c/Users/Pietro/Documents/work/b4p_project/gym-gsy/redis_basic_strategies_BC.py\", line 40, in on_tick\n",
      "    self.post_bid_offer(rate_index)\n",
      "  File \"/mnt/c/Users/Pietro/Documents/work/b4p_project/gym-gsy/redis_basic_strategies_BC.py\", line 137, in post_bid_offer\n",
      "    rate = self.asset_strategy[area_uuid][\"buy_rates\"][rate_index]\n",
      "KeyError: 'buy_rates'\n",
      "ERROR:root:on_tick raised exception: 'buy_rates'.\n",
      "Traceback (most recent call last):\n",
      "  File \"/mnt/c/Users/Pietro/Documents/work/b4p_project/gsy-e-sdk/gsy-framework/gsy_framework/utils.py\", line 48, in execute_function_util\n",
      "    function()\n",
      "  File \"/mnt/c/Users/Pietro/Documents/work/b4p_project/gsy-e-sdk/gsy_e_sdk/redis_aggregator.py\", line 275, in <lambda>\n",
      "    self.executor.submit(execute_function_util, function=lambda: self.on_tick(message),\n",
      "  File \"/mnt/c/Users/Pietro/Documents/work/b4p_project/gym-gsy/redis_basic_strategies_BC.py\", line 40, in on_tick\n",
      "    self.post_bid_offer(rate_index)\n",
      "  File \"/mnt/c/Users/Pietro/Documents/work/b4p_project/gym-gsy/redis_basic_strategies_BC.py\", line 137, in post_bid_offer\n",
      "    rate = self.asset_strategy[area_uuid][\"buy_rates\"][rate_index]\n",
      "KeyError: 'buy_rates'\n",
      "ERROR:root:on_tick raised exception: 'buy_rates'.\n",
      "Traceback (most recent call last):\n",
      "  File \"/mnt/c/Users/Pietro/Documents/work/b4p_project/gsy-e-sdk/gsy-framework/gsy_framework/utils.py\", line 48, in execute_function_util\n",
      "    function()\n",
      "  File \"/mnt/c/Users/Pietro/Documents/work/b4p_project/gsy-e-sdk/gsy_e_sdk/redis_aggregator.py\", line 275, in <lambda>\n",
      "    self.executor.submit(execute_function_util, function=lambda: self.on_tick(message),\n",
      "  File \"/mnt/c/Users/Pietro/Documents/work/b4p_project/gym-gsy/redis_basic_strategies_BC.py\", line 40, in on_tick\n",
      "    self.post_bid_offer(rate_index)\n",
      "  File \"/mnt/c/Users/Pietro/Documents/work/b4p_project/gym-gsy/redis_basic_strategies_BC.py\", line 137, in post_bid_offer\n",
      "    rate = self.asset_strategy[area_uuid][\"buy_rates\"][rate_index]\n",
      "KeyError: 'buy_rates'\n",
      "ERROR:root:on_tick raised exception: 'buy_rates'.\n",
      "Traceback (most recent call last):\n",
      "  File \"/mnt/c/Users/Pietro/Documents/work/b4p_project/gsy-e-sdk/gsy-framework/gsy_framework/utils.py\", line 48, in execute_function_util\n",
      "    function()\n",
      "  File \"/mnt/c/Users/Pietro/Documents/work/b4p_project/gsy-e-sdk/gsy_e_sdk/redis_aggregator.py\", line 275, in <lambda>\n",
      "    self.executor.submit(execute_function_util, function=lambda: self.on_tick(message),\n",
      "  File \"/mnt/c/Users/Pietro/Documents/work/b4p_project/gym-gsy/redis_basic_strategies_BC.py\", line 40, in on_tick\n",
      "    self.post_bid_offer(rate_index)\n",
      "  File \"/mnt/c/Users/Pietro/Documents/work/b4p_project/gym-gsy/redis_basic_strategies_BC.py\", line 137, in post_bid_offer\n",
      "    rate = self.asset_strategy[area_uuid][\"buy_rates\"][rate_index]\n",
      "KeyError: 'buy_rates'\n",
      "ERROR:root:on_tick raised exception: 'buy_rates'.\n",
      "Traceback (most recent call last):\n",
      "  File \"/mnt/c/Users/Pietro/Documents/work/b4p_project/gsy-e-sdk/gsy-framework/gsy_framework/utils.py\", line 48, in execute_function_util\n",
      "    function()\n",
      "  File \"/mnt/c/Users/Pietro/Documents/work/b4p_project/gsy-e-sdk/gsy_e_sdk/redis_aggregator.py\", line 275, in <lambda>\n",
      "    self.executor.submit(execute_function_util, function=lambda: self.on_tick(message),\n",
      "  File \"/mnt/c/Users/Pietro/Documents/work/b4p_project/gym-gsy/redis_basic_strategies_BC.py\", line 40, in on_tick\n",
      "    self.post_bid_offer(rate_index)\n",
      "  File \"/mnt/c/Users/Pietro/Documents/work/b4p_project/gym-gsy/redis_basic_strategies_BC.py\", line 137, in post_bid_offer\n",
      "    rate = self.asset_strategy[area_uuid][\"buy_rates\"][rate_index]\n",
      "KeyError: 'buy_rates'\n",
      "ERROR:root:on_tick raised exception: 'buy_rates'.\n",
      "Traceback (most recent call last):\n",
      "  File \"/mnt/c/Users/Pietro/Documents/work/b4p_project/gsy-e-sdk/gsy-framework/gsy_framework/utils.py\", line 48, in execute_function_util\n",
      "    function()\n",
      "  File \"/mnt/c/Users/Pietro/Documents/work/b4p_project/gsy-e-sdk/gsy_e_sdk/redis_aggregator.py\", line 275, in <lambda>\n",
      "    self.executor.submit(execute_function_util, function=lambda: self.on_tick(message),\n",
      "  File \"/mnt/c/Users/Pietro/Documents/work/b4p_project/gym-gsy/redis_basic_strategies_BC.py\", line 40, in on_tick\n",
      "    self.post_bid_offer(rate_index)\n",
      "  File \"/mnt/c/Users/Pietro/Documents/work/b4p_project/gym-gsy/redis_basic_strategies_BC.py\", line 137, in post_bid_offer\n",
      "    rate = self.asset_strategy[area_uuid][\"buy_rates\"][rate_index]\n",
      "KeyError: 'buy_rates'\n",
      "WARNING:gsy_e.gsy_e_core.simulation:Slot 4 of 96 - (4.2 %) 31 seconds elapsed, ETA: 12 minutes 13 seconds\n",
      "CRITICAL:gsy_e.gsy_e_core.simulation:Simulation paused. Press 'p' to resume or resume from API.\n"
     ]
    }
   ],
   "source": [
    "sim_controller.next_slot()"
   ]
  },
  {
   "cell_type": "code",
   "execution_count": 19,
   "metadata": {},
   "outputs": [
    {
     "data": {
      "text/plain": [
       "{}"
      ]
     },
     "execution_count": 19,
     "metadata": {},
     "output_type": "execute_result"
    }
   ],
   "source": [
    "#get an area\n",
    "area = sim_controller.simulation.area.children[0].children[0]\n",
    "\n",
    "#get current market of an area\n",
    "market = area.current_market\n",
    "\n",
    "#get bids, offers and trades\n",
    "market.trades\n",
    "market.offers\n",
    "market.bids\n",
    "\n",
    "#get open bids\n",
    "market.get_bids()\n"
   ]
  },
  {
   "cell_type": "code",
   "execution_count": 20,
   "metadata": {},
   "outputs": [
    {
     "data": {
      "text/plain": [
       "<TwoSidedMarket 2023-04-28T00:30 bids: 0 (E: 0 kWh V:0) offers: 0 (E: 0 kWh V: 0) trades: 0 (E: 0 kWh, V: 0)>"
      ]
     },
     "execution_count": 20,
     "metadata": {},
     "output_type": "execute_result"
    },
    {
     "name": "stderr",
     "output_type": "stream",
     "text": [
      "CRITICAL:gsy_e.gsy_e_core.simulation:Simulation resumed\n",
      "ERROR:gsy_e.gsy_e_core.simulation:Received stop command for configuration id  and job id None.\n",
      "ERROR:root:on_market_slot raised exception: Could not find Market Maker in tree.\n",
      "Traceback (most recent call last):\n",
      "  File \"/mnt/c/Users/Pietro/Documents/work/b4p_project/gsy-e-sdk/gsy-framework/gsy_framework/utils.py\", line 48, in execute_function_util\n",
      "    function()\n",
      "  File \"/mnt/c/Users/Pietro/Documents/work/b4p_project/gsy-e-sdk/gsy_e_sdk/redis_aggregator.py\", line 266, in <lambda>\n",
      "    function=lambda: self.on_market_slot(message),\n",
      "  File \"/mnt/c/Users/Pietro/Documents/work/b4p_project/gym-gsy/redis_basic_strategies_BC.py\", line 33, in on_market_slot\n",
      "    self.build_strategies(market_info)\n",
      "  File \"/mnt/c/Users/Pietro/Documents/work/b4p_project/gym-gsy/redis_basic_strategies_BC.py\", line 63, in build_strategies\n",
      "    self.get_uuid_from_area_name(\"Market Maker\"),\n",
      "  File \"/mnt/c/Users/Pietro/Documents/work/b4p_project/gsy-e-sdk/gsy_e_sdk/redis_aggregator.py\", line 257, in get_uuid_from_area_name\n",
      "    return get_uuid_from_area_name_in_tree_dict(self.area_name_uuid_mapping, name)\n",
      "  File \"/mnt/c/Users/Pietro/Documents/work/b4p_project/gsy-e-sdk/gsy_e_sdk/utils.py\", line 279, in get_uuid_from_area_name_in_tree_dict\n",
      "    raise ValueError(f\"Could not find {name} in tree\")\n",
      "ValueError: Could not find Market Maker in tree\n"
     ]
    }
   ],
   "source": [
    "market\n"
   ]
  },
  {
   "cell_type": "code",
   "execution_count": 50,
   "metadata": {},
   "outputs": [
    {
     "data": {
      "text/plain": [
       "<Bid {3903b7} [area] 10 kWh @ 10.0 1.0>"
      ]
     },
     "execution_count": 50,
     "metadata": {},
     "output_type": "execute_result"
    }
   ],
   "source": [
    "sim_controller.simulation.area.children[0].children[0].current_market.bid(10, 10, \"area\", \"area_origin\")"
   ]
  },
  {
   "cell_type": "code",
   "execution_count": 51,
   "metadata": {},
   "outputs": [],
   "source": [
    "sim_controller.simulation.area.children[0].children[0].current_market.readonly = False"
   ]
  },
  {
   "cell_type": "code",
   "execution_count": 52,
   "metadata": {},
   "outputs": [
    {
     "data": {
      "text/plain": [
       "<Offer('7844c0', '11 kWh@9.0', 'Offer 0.81818182'>"
      ]
     },
     "execution_count": 52,
     "metadata": {},
     "output_type": "execute_result"
    }
   ],
   "source": [
    "sim_controller.simulation.area.children[0].children[0].current_market.offer(9,11, \"Offer\", \"offer\")"
   ]
  },
  {
   "cell_type": "code",
   "execution_count": 63,
   "metadata": {},
   "outputs": [
    {
     "data": {
      "text/plain": [
       "<Bid {3903b7} [area] 10 kWh @ 10.0 1.0>"
      ]
     },
     "execution_count": 63,
     "metadata": {},
     "output_type": "execute_result"
    }
   ],
   "source": [
    "sim_controller.simulation.area.children[0].children[0].current_market.bids.get('3903b72e-dcbe-468d-8b5c-220e962ee4f7')\n"
   ]
  },
  {
   "cell_type": "code",
   "execution_count": 74,
   "metadata": {},
   "outputs": [],
   "source": [
    "offer = sim_controller.simulation.area.children[0].children[0].current_market.offers.get('7844c0e1-286f-43b8-b2eb-e003ff9a2b47')"
   ]
  },
  {
   "cell_type": "markdown",
   "metadata": {},
   "source": []
  },
  {
   "cell_type": "code",
   "execution_count": 77,
   "metadata": {},
   "outputs": [
    {
     "ename": "AttributeError",
     "evalue": "'NoneType' object has no attribute 'propagated_bid_rate'",
     "output_type": "error",
     "traceback": [
      "\u001b[0;31m---------------------------------------------------------------------------\u001b[0m",
      "\u001b[0;31mAttributeError\u001b[0m                            Traceback (most recent call last)",
      "Cell \u001b[0;32mIn[77], line 1\u001b[0m\n\u001b[0;32m----> 1\u001b[0m sim_controller\u001b[39m.\u001b[39;49msimulation\u001b[39m.\u001b[39;49marea\u001b[39m.\u001b[39;49mchildren[\u001b[39m0\u001b[39;49m]\u001b[39m.\u001b[39;49mchildren[\u001b[39m0\u001b[39;49m]\u001b[39m.\u001b[39;49mcurrent_market\u001b[39m.\u001b[39;49maccept_offer(offer, \u001b[39m\"\u001b[39;49m\u001b[39mbuyer\u001b[39;49m\u001b[39m\"\u001b[39;49m)\n",
      "File \u001b[0;32m/mnt/c/Users/Pietro/Documents/work/b4p_project/gsy-e/src/gsy_e/models/market/__init__.py:60\u001b[0m, in \u001b[0;36mlock_market_action.<locals>.wrapper\u001b[0;34m(self, *args, **kwargs)\u001b[0m\n\u001b[1;32m     57\u001b[0m     \u001b[39mreturn\u001b[39;00m function(\u001b[39mself\u001b[39m, \u001b[39m*\u001b[39margs, \u001b[39m*\u001b[39m\u001b[39m*\u001b[39mkwargs)\n\u001b[1;32m     59\u001b[0m \u001b[39mwith\u001b[39;00m lock_object:\n\u001b[0;32m---> 60\u001b[0m     \u001b[39mreturn\u001b[39;00m function(\u001b[39mself\u001b[39;49m, \u001b[39m*\u001b[39;49margs, \u001b[39m*\u001b[39;49m\u001b[39m*\u001b[39;49mkwargs)\n",
      "File \u001b[0;32m/mnt/c/Users/Pietro/Documents/work/b4p_project/gsy-e/src/gsy_e/models/market/one_sided.py:301\u001b[0m, in \u001b[0;36mOneSidedMarket.accept_offer\u001b[0;34m(self, offer_or_id, buyer, energy, already_tracked, trade_rate, trade_bid_info, buyer_origin, buyer_origin_id, buyer_id)\u001b[0m\n\u001b[1;32m    297\u001b[0m         \u001b[39mraise\u001b[39;00m InvalidTrade(\u001b[39mf\u001b[39m\u001b[39m\"\u001b[39m\u001b[39mEnergy (\u001b[39m\u001b[39m{\u001b[39;00menergy\u001b[39m}\u001b[39;00m\u001b[39m) can\u001b[39m\u001b[39m'\u001b[39m\u001b[39mt be greater than \u001b[39m\u001b[39m\"\u001b[39m\n\u001b[1;32m    298\u001b[0m                            \u001b[39mf\u001b[39m\u001b[39m\"\u001b[39m\u001b[39moffered energy (\u001b[39m\u001b[39m{\u001b[39;00moffer\u001b[39m.\u001b[39menergy\u001b[39m}\u001b[39;00m\u001b[39m)\u001b[39m\u001b[39m\"\u001b[39m)\n\u001b[1;32m    299\u001b[0m     \u001b[39melse\u001b[39;00m:\n\u001b[1;32m    300\u001b[0m         \u001b[39m# Requested energy is equal to offer's energy - just proceed normally\u001b[39;00m\n\u001b[0;32m--> 301\u001b[0m         fee_price, trade_price \u001b[39m=\u001b[39m \u001b[39mself\u001b[39;49m\u001b[39m.\u001b[39;49m_determine_offer_price(\n\u001b[1;32m    302\u001b[0m             \u001b[39m1\u001b[39;49m, energy, trade_rate, trade_bid_info, orig_offer_price)\n\u001b[1;32m    303\u001b[0m         offer\u001b[39m.\u001b[39mupdate_price(trade_price)\n\u001b[1;32m    304\u001b[0m \u001b[39mexcept\u001b[39;00m \u001b[39mException\u001b[39;00m:\n\u001b[1;32m    305\u001b[0m     \u001b[39m# Exception happened - restore offer\u001b[39;00m\n",
      "File \u001b[0;32m/mnt/c/Users/Pietro/Documents/work/b4p_project/gsy-e/src/gsy_e/models/market/one_sided.py:243\u001b[0m, in \u001b[0;36mOneSidedMarket._determine_offer_price\u001b[0;34m(self, energy_portion, energy, trade_rate, trade_bid_info, orig_offer_price)\u001b[0m\n\u001b[1;32m    238\u001b[0m \u001b[39mif\u001b[39;00m ConstSettings\u001b[39m.\u001b[39mMASettings\u001b[39m.\u001b[39mMARKET_TYPE \u001b[39m==\u001b[39m SpotMarketTypeEnum\u001b[39m.\u001b[39mONE_SIDED\u001b[39m.\u001b[39mvalue:\n\u001b[1;32m    239\u001b[0m     \u001b[39mreturn\u001b[39;00m \u001b[39mself\u001b[39m\u001b[39m.\u001b[39m_update_offer_fee_and_calculate_final_price(\n\u001b[1;32m    240\u001b[0m         energy, trade_rate, energy_portion, orig_offer_price\n\u001b[1;32m    241\u001b[0m     )\n\u001b[0;32m--> 243\u001b[0m _, grid_fee_rate, trade_rate_incl_fees \u001b[39m=\u001b[39m \u001b[39mself\u001b[39;49m\u001b[39m.\u001b[39;49mfee_class\u001b[39m.\u001b[39;49mcalculate_trade_price_and_fees(\n\u001b[1;32m    244\u001b[0m         trade_bid_info)\n\u001b[1;32m    245\u001b[0m grid_fee_price \u001b[39m=\u001b[39m grid_fee_rate \u001b[39m*\u001b[39m energy\n\u001b[1;32m    246\u001b[0m \u001b[39mreturn\u001b[39;00m grid_fee_price, energy \u001b[39m*\u001b[39m trade_rate_incl_fees\n",
      "File \u001b[0;32m/mnt/c/Users/Pietro/Documents/work/b4p_project/gsy-e/src/gsy_e/models/market/grid_fees/constant_grid_fees.py:100\u001b[0m, in \u001b[0;36mConstantGridFees.calculate_trade_price_and_fees\u001b[0;34m(self, trade_bid_info)\u001b[0m\n\u001b[1;32m     99\u001b[0m \u001b[39mdef\u001b[39;00m \u001b[39mcalculate_trade_price_and_fees\u001b[39m(\u001b[39mself\u001b[39m, trade_bid_info):\n\u001b[0;32m--> 100\u001b[0m     bid_rate \u001b[39m=\u001b[39m trade_bid_info\u001b[39m.\u001b[39;49mpropagated_bid_rate\n\u001b[1;32m    101\u001b[0m     \u001b[39mreturn\u001b[39;00m bid_rate \u001b[39m-\u001b[39m \u001b[39mself\u001b[39m\u001b[39m.\u001b[39mgrid_fee_rate, \u001b[39mself\u001b[39m\u001b[39m.\u001b[39mgrid_fee_rate, bid_rate\n",
      "\u001b[0;31mAttributeError\u001b[0m: 'NoneType' object has no attribute 'propagated_bid_rate'"
     ]
    },
    {
     "name": "stderr",
     "output_type": "stream",
     "text": [
      "CRITICAL:gsy_e.gsy_e_core.simulation:Simulation resumed\n",
      "ERROR:gsy_e.gsy_e_core.simulation:Received stop command for configuration id  and job id None.\n"
     ]
    }
   ],
   "source": [
    "sim_controller.simulation.area.children[0].children[0].current_market.accept_offer(offer, \"buyer\")\n"
   ]
  },
  {
   "cell_type": "code",
   "execution_count": 48,
   "metadata": {},
   "outputs": [
    {
     "data": {
      "text/plain": [
       "<TwoSidedMarket 2023-04-28T00:45 bids: 0 (E: 0 kWh V:0) offers: 0 (E: 0 kWh V: 0) trades: 0 (E: 0 kWh, V: 0)>"
      ]
     },
     "execution_count": 48,
     "metadata": {},
     "output_type": "execute_result"
    }
   ],
   "source": [
    "sim_controller.simulation.area.children[0].current_market"
   ]
  },
  {
   "cell_type": "code",
   "execution_count": 48,
   "metadata": {},
   "outputs": [
    {
     "data": {
      "text/plain": [
       "3"
      ]
     },
     "execution_count": 48,
     "metadata": {},
     "output_type": "execute_result"
    }
   ],
   "source": [
    "sim_controller.slot_number\n"
   ]
  },
  {
   "cell_type": "code",
   "execution_count": null,
   "metadata": {},
   "outputs": [],
   "source": [
    "from gsy_e.gsy_e_core.global_objects_singleton import global_objects\n"
   ]
  },
  {
   "cell_type": "code",
   "execution_count": null,
   "metadata": {},
   "outputs": [],
   "source": [
    "sim_controller.register_asset(\"PV 9 (15kW)\")"
   ]
  },
  {
   "cell_type": "code",
   "execution_count": null,
   "metadata": {},
   "outputs": [],
   "source": [
    "sim_controller.shared_object[\"simulation\"]"
   ]
  },
  {
   "cell_type": "code",
   "execution_count": null,
   "metadata": {},
   "outputs": [],
   "source": [
    "import json"
   ]
  },
  {
   "cell_type": "code",
   "execution_count": null,
   "metadata": {},
   "outputs": [],
   "source": [
    "import redis\n",
    "r = redis.StrictRedis(host='localhost', port=6379, db=0, decode_responses=True)\n"
   ]
  },
  {
   "cell_type": "code",
   "execution_count": null,
   "metadata": {},
   "outputs": [],
   "source": [
    "area_dict = json.loads(area_to_string(area))"
   ]
  },
  {
   "cell_type": "code",
   "execution_count": null,
   "metadata": {},
   "outputs": [],
   "source": [
    "area_to_string(area)"
   ]
  },
  {
   "cell_type": "code",
   "execution_count": null,
   "metadata": {},
   "outputs": [],
   "source": [
    "r.publish(\"/live-event\", json.dumps({\"transaction_id\": str(12312),\"eventType\":\"create_area\", \"transaction_id\":1, \"parent_uuid\":\"\", \"area_representation\":area_dict}))\n"
   ]
  },
  {
   "cell_type": "code",
   "execution_count": null,
   "metadata": {},
   "outputs": [],
   "source": [
    "json.loads(json.dumps(area,cls=AreaEncoder))"
   ]
  },
  {
   "cell_type": "code",
   "execution_count": null,
   "metadata": {},
   "outputs": [],
   "source": [
    "json.loads(area_to_string(area))"
   ]
  },
  {
   "cell_type": "code",
   "execution_count": null,
   "metadata": {},
   "outputs": [],
   "source": [
    "import redis\n",
    "redis = redis.StrictRedis(host='localhost', port=6379, db=0, decode_responses=True)\n"
   ]
  },
  {
   "cell_type": "code",
   "execution_count": null,
   "metadata": {},
   "outputs": [],
   "source": [
    "sim_controller.resume()"
   ]
  },
  {
   "cell_type": "code",
   "execution_count": null,
   "metadata": {},
   "outputs": [],
   "source": [
    "sim_controller.register_asset(\"Load 82 L17\")"
   ]
  },
  {
   "cell_type": "code",
   "execution_count": null,
   "metadata": {},
   "outputs": [],
   "source": [
    "env = GsyEnv()"
   ]
  },
  {
   "cell_type": "code",
   "execution_count": null,
   "metadata": {},
   "outputs": [],
   "source": [
    "env.reset()"
   ]
  },
  {
   "cell_type": "code",
   "execution_count": null,
   "metadata": {},
   "outputs": [],
   "source": [
    "thread = threading.Thread(target=gsy_cli.main, args=([\"-l\", \"INFO\", \"run\", \"-t\", \"5s\", \"-s\", \"15m\", \"--setup\", \"api_setup.default_community\", \"--enable-external-connection\", \"--paused\", \"--slot-length-realtime\", \"10\"],))x"
   ]
  },
  {
   "cell_type": "code",
   "execution_count": null,
   "metadata": {},
   "outputs": [],
   "source": [
    "cli.main(['--setup', 'redis_basic_strategies_BC.py', '--run-on-redis', '--base-setup-path', ''])\n"
   ]
  },
  {
   "cell_type": "code",
   "execution_count": null,
   "metadata": {},
   "outputs": [],
   "source": [
    "thread.start()"
   ]
  },
  {
   "cell_type": "code",
   "execution_count": null,
   "metadata": {},
   "outputs": [],
   "source": [
    "sc.resume_simulation()"
   ]
  },
  {
   "cell_type": "code",
   "execution_count": null,
   "metadata": {},
   "outputs": [],
   "source": [
    "print(\"0\")"
   ]
  },
  {
   "cell_type": "code",
   "execution_count": null,
   "metadata": {},
   "outputs": [],
   "source": [
    "simulation = object_shared[\"simulation\"]"
   ]
  },
  {
   "cell_type": "code",
   "execution_count": null,
   "metadata": {},
   "outputs": [],
   "source": [
    "simulation._status.toggle_pause()\n"
   ]
  },
  {
   "cell_type": "code",
   "execution_count": null,
   "metadata": {},
   "outputs": [],
   "source": []
  }
 ],
 "metadata": {
  "kernelspec": {
   "display_name": "pbrl",
   "language": "python",
   "name": "python3"
  },
  "language_info": {
   "codemirror_mode": {
    "name": "ipython",
    "version": 3
   },
   "file_extension": ".py",
   "mimetype": "text/x-python",
   "name": "python",
   "nbconvert_exporter": "python",
   "pygments_lexer": "ipython3",
   "version": "3.11.3"
  },
  "orig_nbformat": 4
 },
 "nbformat": 4,
 "nbformat_minor": 2
}
